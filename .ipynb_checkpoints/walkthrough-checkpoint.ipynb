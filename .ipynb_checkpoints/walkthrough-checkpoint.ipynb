{
 "cells": [
  {
   "cell_type": "markdown",
   "id": "306244c9-7e12-4ec4-994f-3c9cacf0c455",
   "metadata": {},
   "source": [
    "__Project Walkthrough__\n",
    "\n",
    "This file is a walkthrough of my bloom filter project. I highlight some learning outcomes, demonstrate the code in action, and provide an overall reflection. It is broken down into sections:\n",
    "\n",
    "1. Modules\n",
    "2. Equations\n",
    "3. Probability exploration\n",
    "4. Code walkthrough\n",
    "5. Reflection "
   ]
  },
  {
   "cell_type": "markdown",
   "id": "504aa09c-0e24-4d5e-a086-ef6456d9ceeb",
   "metadata": {},
   "source": [
    "**Modules**\n",
    "\n",
    "As I started writing the code for this project one of the first challenges I faced was working with some new-to-me python modules. It was interesting to dive into the capabilities of these models so here is a brief summary of what I used and what I learned: \n",
    "\n",
    "- mmh3 : MurmurHash3 is a python extension that contains a set of fast, non-cryptographic hash functions. To utilize write -> mmhs.hash(input, seed), where the input is the string item we are trying to hash and the seed is a integer. Entering a different seed is like running a different hash function. So in this bloom filter, I calculate how many hash functions k are needed and use the numbers 0 through k as seeds. To support later lookup, we have to be able to access the same hash function so this was an easy way for me to keep track of the seeds. The hash function outputs a 32 bit integer which we can then apply the mod operator to and find out what bit in the bitarray to change to True. \n",
    "\n",
    "        - Note on this - I had originally thought that coming up with hash functions was going to be a big challenge in this project, but it turns out this module made that very easy! \n",
    "        \n",
    "\n",
    "- bitarray : The bitarray module is used to create an object that is an array of bits. It's very similar to a python string whose values are just 0 or 1. In this project, I initialize an array using bitarray.bittary(size) where the size is the size we calculated based on the number of inputs and probability. I then use bitarray.setall(0) to make sure all entries are initially set to 0 or False, indicating no items have been hashed yet. \n",
    "\n",
    "- wonderwords : The wonderwords module was a fun discovery that I stumbled across when working on writing tests. It has a variety of different capabilities involving random word generation - everything from setting length, to starting and ending letters, to parts of speech, and more! In this project, I use it to generate a list of random words that become the entries for my test file. I also use the random word generator to generate words that aren't entered to test for probabilities of false positives. "
   ]
  },
  {
   "cell_type": "markdown",
   "id": "5e21a831-4f7a-4029-8e95-d0cb40f7ecab",
   "metadata": {},
   "source": [
    "**Equations**\n",
    "\n",
    "To create a new bloom filter, we need to calculate 1) the bitarray size and 2) the number of hash functions. These are built in to be automatically calculated based on user input of n (number of items that will be entered into the system) and p (desired probability of false positives). Let's examine the equations:\n",
    "\n",
    "1) calculate length of bit array \n",
    "\n",
    "$ m = \\frac{n\\ln(p)}{\\ln(2)^2}$\n",
    "\n",
    "\n",
    "2) calculate number of hash function \n",
    "\n",
    "$ k = \\frac{m}{n} ln(2)$\n",
    "\n",
    "3) probability of a false positive \n",
    "\n",
    "$ P = (1 - (1 - \\frac{1}{m})^{kn})^k$\n",
    "\n",
    "Let's break down this probability equation. When we go to hash an item, we get 1 bit out of the m bits marked to true. So the probability of a finding that one true bit is $\\frac{1}{m}$. So the probability of finding a false bit is $1-\\frac{1}{m}$. Then since we are using k functions and doing this to n inputs we get $(1-\\frac{1}{m})^{kn}$. So this is the probability that any given bit is set to False following the insertion of n elements run through k hash functions. So the probability of any given cell being true becomes $1 - (1-\\frac{1}{m})^{kn}$. Now the probability of a false positive is that one of these cells that is already marked true is once again found and marked true and then we get our final probability equation $ P = (1 - (1 - \\frac{1}{m})^{kn})^k$. "
   ]
  },
  {
   "cell_type": "markdown",
   "id": "b9e8997d-6092-40c1-9948-e84ea3e24b8e",
   "metadata": {},
   "source": [
    "**Probability Exploration**\n",
    "\n",
    "Here I do a basic exploration of the expected probability of false positives compared to the actual false positives. I try a couple different combinations of n and p inputs, where n is input size and p is the expected probability of false positives. For each combination of inputs, I run the function twice.\n",
    "\n",
    "The test function first sets up a bloom filter and adds n elements to it. Then I run 1000 rounds of a trial where I randomly generate an input, first check to make sure the input wasn't part of the original list, then test if the is_present() function returns true or false. If the is_present function returns true then this is a false positive and I increment the false positive counter. At the end, I divide this count by the 1000 trials (minus any trials that were skipped if the random generation was already present). So the function outputs a percentage of false positives. \n",
    "\n",
    "You can see in the ouputs below that the actual vs. expected values are surprisingly close even as the inputs change. In all honesty, I was really surprised and then excited to see how closely this matched up. Very cool to see theoretical math like probability actually work in real trials. (Personal note - as someone with an ecology background, I am very used to natural data not closely following expectations so I found this very cool to see such a close alignment between actual and expected values here. I ran this quite a few times, just revelling in the glory of the math working out so well.) \n"
   ]
  },
  {
   "cell_type": "code",
   "execution_count": 14,
   "id": "82bac83d-ea8f-4c9a-838d-24cd7167cf40",
   "metadata": {},
   "outputs": [
    {
     "name": "stdout",
     "output_type": "stream",
     "text": [
      "Input size = 50, expected prob = 0.02, actual prob 1 =  0.014  actual prob 2 =  0.023\n",
      "Input size = 100, expected probability = 0.2, actual prob 1 =  0.235  actual prob 2 =  0.212\n",
      "Input size = 50, expected probability = 0.005, actual prob 1 =  0.006  actual prob 2 =  0.007\n",
      "Input size = 200, expected probability = 0.1, actual prob 1 =  0.111  actual prob 2 =  0.11\n",
      "Input size = 500, expected probability = 0.01, actual prob 1 =  0.014  actual prob 2 =  0.092\n"
     ]
    }
   ],
   "source": [
    "import bloomfilter\n",
    "from wonderwords import RandomWord\n",
    "r = RandomWord()\n",
    "\n",
    "def prob_test(n,p):\n",
    "\n",
    "    mybloom = bloomfilter.BloomFilter(n,p)\n",
    "    \n",
    "    #get random items to input \n",
    "    items=[]\n",
    "    for i in range(n):\n",
    "        items.append(r.word() + \" \" + r.word()) #string made up of two random words \n",
    "        mybloom.add(items[i])\n",
    "    \n",
    "    #now we check for false positives with 1000 rounds of making up a random string and testing to see if it hashes as present\n",
    "    fp=0\n",
    "    trials = 1000\n",
    "    for i in range(1000):\n",
    "        wrd = r.word() + \" \" + r.word()\n",
    "        if wrd not in items: #make sure it didn't happen to generate something that is entered already \n",
    "            test = mybloom.is_present(wrd)\n",
    "            if test == True:\n",
    "                fp += 1 #increment false positive\n",
    "        else:\n",
    "            trials -=1\n",
    "    return fp/trials\n",
    "\n",
    "print(\"Input size = 50, expected prob = 0.02, actual prob 1 = \", prob_test(50,0.02), \" actual prob 2 = \", prob_test(50,0.02))\n",
    "print(\"Input size = 100, expected probability = 0.2, actual prob 1 = \", prob_test(100,0.2), \" actual prob 2 = \", prob_test(100,0.2))\n",
    "print(\"Input size = 50, expected probability = 0.005, actual prob 1 = \", prob_test(50,0.005), \" actual prob 2 = \", prob_test(50,0.005))\n",
    "print(\"Input size = 200, expected probability = 0.1, actual prob 1 = \", prob_test(200,0.1), \" actual prob 2 = \", prob_test(200,0.1))\n",
    "print(\"Input size = 500, expected probability = 0.01, actual prob 1 = \", prob_test(500,0.01), \" actual prob 2 = \", prob_test(500,0.1))"
   ]
  },
  {
   "cell_type": "markdown",
   "id": "c9cf6310-3509-43b4-ba8d-eab2ae31518c",
   "metadata": {},
   "source": [
    "**Demonstration of Bloom Filters with Real World Scenario**\n",
    "\n",
    "Scenario: I will use a Bloom filter to track a home library of books. In this scenario, a user has accumulated so many books that they cannot remember which ones they have (and they’re not organized so it’s annoying to search through them). The user thinks of a title to read and wants to check if the book exists in their home library, so they enter the title in the Bloom filter lookup and get a positive or negative result. If the result is positive, then they know it’s worth taking the time to look for the book in their expansive collection. If the result happens to be a false positive they wasted some time looking but no real damage has been done. If the result is negative then the user knows definitively that it’s not a part of their library. In this scenario, it doesn’t matter that we cannot delete entries from a Bloom filter because it is assumed that books are not getting lost. (Note – at the scale of a home library, this level of efficiency probably isn’t necessary and a list would work fine but it’s a fun idea.)\n",
    "\n",
    "How it works: \n",
    "\n",
    "I first manually set a list of book where the entry consists of the title and author. Then I create a new bloom filter object and add the titles to it. Then I perform a lookup on some titles that I know are in there and some that I know are not. The results are below:"
   ]
  },
  {
   "cell_type": "code",
   "execution_count": 25,
   "id": "392cc35c-8c1b-4fd3-82b7-c966cd0ef367",
   "metadata": {},
   "outputs": [
    {
     "name": "stdout",
     "output_type": "stream",
     "text": [
      "Input size is:  15\n",
      "Expected probability of a false positive is:  0.1\n",
      "Bit array size is:  71\n",
      "Number of hash functions used is:  3\n",
      "Is Animal Farm present?  True\n",
      "Is the The Picture of Dorian Gray present?  True\n",
      "Is the Hungry Caterpillar present?  False\n",
      "Is Jane Eyre present?  False\n"
     ]
    }
   ],
   "source": [
    "import bloomfilter #file with the bloom filter class \n",
    "\n",
    "#books list \n",
    "mybooks = [\"Animal Farm, George Orwell\", \"The Handmaid's Tale, Margaret Atwood\", \"A Court of Thorns and Roses, Sarah J. Maas\", \"The Color Purple, Alice Walker\", \"The Picture of Dorian Gray, Oscar Wilde\", \"A Midsummer Night's Dream, William Shakespeare\", \"Fahrenheit 451, Ray Bradbury\", \"Dracula, Bram Stoker\", \"Children of Dune, Frank Herbert\", \"The Adventures of Tom Sawyer, Mark Twain\", \"The Alchemist, Paolo Coelho\", \"The Hobbit, J.R.R. Tolkein\", \"Odyssey, Homer\", \"Moby Dick, Herman Melville\", \"A Court of Frost and Starlight, Sarah J Maas\"]\n",
    "n = len(mybooks)\n",
    "p = 0.1\n",
    "\n",
    "#intialize new bloom filter object \n",
    "mylibrary = bloomfilter.BloomFilter(n,p)\n",
    "\n",
    "print(\"Input size is: \", n)\n",
    "print(\"Expected probability of a false positive is: \", p)\n",
    "print(\"Bit array size is: \", mylibrary.bitarray_size)\n",
    "print(\"Number of hash functions used is: \", mylibrary.hash_num)\n",
    "\n",
    "\n",
    "#add all books to the bit array \n",
    "for i in range(n):\n",
    "    mylibrary.add(mybooks[i])\n",
    "    \n",
    "#check books we know are in there\n",
    "print(\"Is Animal Farm present? \", mylibrary.is_present(\"Animal Farm, George Orwell\"))\n",
    "print(\"Is the The Picture of Dorian Gray present? \", mylibrary.is_present(\"The Picture of Dorian Gray, Oscar Wilde\"))\n",
    "\n",
    "#check books we know are not in there\n",
    "print(\"Is the Hungry Caterpillar present? \", mylibrary.is_present(\"The Hungry Caterpillar, Eric Carle\"))\n",
    "print(\"Is Jane Eyre present? \", mylibrary.is_present(\"Jane Eyre, Charlotte Bronte\"))"
   ]
  },
  {
   "cell_type": "markdown",
   "id": "79b72eb0-0829-473d-baf9-61b7cbbc0a5b",
   "metadata": {},
   "source": [
    "__Reflection__\n",
    "\n",
    "\n",
    "My overall impression of bloom filters is that they are very powerful when applied to certain scenarios - like a username database search or password strength evaluation. There are definitely some limitations that make the application scope a bit narrower than some other data structures like a hash table. One limitation is that the bloom filter purely searches for presence/absence and cannot access any additional data. It is also not possible to delete an entry, which could be considered a disadvantage based on the application. Finally, another major disadvantage is the possibility of performing a lookup and receiving a false positive result. As I stated earlier, for this reason a bloom filter should be applied selectively to situations where a false positive would not be catastrophic. The main strength that makes bloom filters so attractive is the extremely fast insertion and lookup operations. And the space storage required is pretty reasonable since we are storing simple bits rather than entire strings, nodes, etc. For what they are designed to do, bloom filters are very efficient and effective. \n",
    "\n",
    "\n",
    "I think this project went well. I am happy I used python. When I went to start, I realized I had never made a class or member functions in python before so this was good practice. I also had not imported one file into another before with python so that was also good practice. The coding portion was honestly a lot easier than I was expecting, which makes sense - bloom filters are fairly simle to implement. The complexity lies in the way it works, so I extended my project by doing some additional exploration into the theory behind bloom filters. I usually find probability intimidating so it was very exciting to do a deep dive on this project and feel like I now have a solid understanding of how math makes this work. It was also very cool to run some tests and see how the probability works out in real trials. \n"
   ]
  }
 ],
 "metadata": {
  "kernelspec": {
   "display_name": "Python 3 (ipykernel)",
   "language": "python",
   "name": "python3"
  },
  "language_info": {
   "codemirror_mode": {
    "name": "ipython",
    "version": 3
   },
   "file_extension": ".py",
   "mimetype": "text/x-python",
   "name": "python",
   "nbconvert_exporter": "python",
   "pygments_lexer": "ipython3",
   "version": "3.10.8"
  },
  "vscode": {
   "interpreter": {
    "hash": "d4d1e4263499bec80672ea0156c357c1ee493ec2b1c70f0acce89fc37c4a6abe"
   }
  }
 },
 "nbformat": 4,
 "nbformat_minor": 5
}
